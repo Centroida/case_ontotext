{
 "cells": [
  {
   "cell_type": "code",
   "execution_count": 2,
   "metadata": {},
   "outputs": [
    {
     "ename": "ModuleNotFoundError",
     "evalue": "No module named 'tensorflow'",
     "output_type": "error",
     "traceback": [
      "\u001b[0;31m---------------------------------------------------------------------------\u001b[0m",
      "\u001b[0;31mModuleNotFoundError\u001b[0m                       Traceback (most recent call last)",
      "\u001b[0;32m<ipython-input-2-97d0acdcf518>\u001b[0m in \u001b[0;36m<module>\u001b[0;34m()\u001b[0m\n\u001b[0;32m----> 1\u001b[0;31m \u001b[0;32mimport\u001b[0m \u001b[0mtensorflow\u001b[0m \u001b[0;32mas\u001b[0m \u001b[0mtf\u001b[0m\u001b[0;34m\u001b[0m\u001b[0m\n\u001b[0m\u001b[1;32m      2\u001b[0m \u001b[0;32mfrom\u001b[0m \u001b[0mkeras\u001b[0m \u001b[0;32mimport\u001b[0m \u001b[0mbackend\u001b[0m \u001b[0;32mas\u001b[0m \u001b[0mK\u001b[0m\u001b[0;34m\u001b[0m\u001b[0m\n\u001b[1;32m      3\u001b[0m \u001b[0;32mimport\u001b[0m \u001b[0mutils\u001b[0m\u001b[0;34m.\u001b[0m\u001b[0mutils_iterator\u001b[0m \u001b[0;32mas\u001b[0m \u001b[0mutils_iterator\u001b[0m\u001b[0;34m\u001b[0m\u001b[0m\n\u001b[1;32m      4\u001b[0m \u001b[0;32mimport\u001b[0m \u001b[0mutils\u001b[0m\u001b[0;34m.\u001b[0m\u001b[0mutils_wv\u001b[0m \u001b[0;32mas\u001b[0m \u001b[0mutils_wv\u001b[0m\u001b[0;34m\u001b[0m\u001b[0m\n\u001b[1;32m      5\u001b[0m \u001b[0;32mimport\u001b[0m \u001b[0mutils\u001b[0m\u001b[0;34m.\u001b[0m\u001b[0mattention_with_context\u001b[0m \u001b[0;32mas\u001b[0m \u001b[0mattention_layers\u001b[0m\u001b[0;34m\u001b[0m\u001b[0m\n",
      "\u001b[0;31mModuleNotFoundError\u001b[0m: No module named 'tensorflow'"
     ]
    }
   ],
   "source": [
    "import tensorflow as tf\n",
    "from keras import backend as K\n",
    "import utils.utils_iterator as utils_iterator\n",
    "import utils.utils_wv as utils_wv\n",
    "import utils.attention_with_context as attention_layers\n",
    "from keras.models import Model\n",
    "from keras.layers import Dense, Input, LSTM, Dropout, Bidirectional, concatenate, Activation, Conv1D, Flatten, MaxPooling1D, Concatenate\n",
    "import utils.utils_statistics as utils_statistics\n",
    "import utils.utils_optimization as utils_optimization\n",
    "from keras.callbacks import ModelCheckpoint\n",
    "from keras import layers"
   ]
  },
  {
   "cell_type": "code",
   "execution_count": 3,
   "metadata": {},
   "outputs": [
    {
     "ename": "NameError",
     "evalue": "name 'ModelCheckpoint' is not defined",
     "output_type": "error",
     "traceback": [
      "\u001b[0;31m---------------------------------------------------------------------------\u001b[0m",
      "\u001b[0;31mNameError\u001b[0m                                 Traceback (most recent call last)",
      "\u001b[0;32m<ipython-input-3-3fa6e3a420f6>\u001b[0m in \u001b[0;36m<module>\u001b[0;34m()\u001b[0m\n\u001b[0;32m----> 1\u001b[0;31m checkpoint = ModelCheckpoint(\n\u001b[0m\u001b[1;32m      2\u001b[0m \t    \"models/best_model_kolev_3.h5\", monitor='val_acc', verbose=1, save_best_only=True, mode='max')\n\u001b[1;32m      3\u001b[0m \u001b[0mcallbacks_list\u001b[0m \u001b[0;34m=\u001b[0m \u001b[0;34m[\u001b[0m\u001b[0mcheckpoint\u001b[0m\u001b[0;34m]\u001b[0m\u001b[0;34m\u001b[0m\u001b[0m\n\u001b[1;32m      4\u001b[0m \u001b[0;34m\u001b[0m\u001b[0m\n\u001b[1;32m      5\u001b[0m \u001b[0;34m\u001b[0m\u001b[0m\n",
      "\u001b[0;31mNameError\u001b[0m: name 'ModelCheckpoint' is not defined"
     ]
    }
   ],
   "source": [
    "checkpoint = ModelCheckpoint(\n",
    "\t    \"models/best_model_kolev_3.h5\", monitor='val_acc', verbose=1, save_best_only=True, mode='max')\n",
    "callbacks_list = [checkpoint]\n",
    "\n",
    "\n",
    "sentence = Input(shape=(75,))\n",
    "position = Input(shape=(75,))\n",
    "\n",
    "embeddings = utils_wv.word2vec_embedding_layer()(sentence)\n",
    "\n",
    "pos_embeddings = layers.Embedding(1,3, input_length=75, trainable=True)(position)\n",
    "x = layers.concatenate([embeddings, pos_embeddings])\n",
    "z = layers.Dropout(0.4)(x)\n",
    "z = Bidirectional(LSTM(256, return_sequences=True))(z)\n",
    "z = Bidirectional(LSTM(256, return_sequences=True))(z)\n",
    "z = attention_layers.AttentionWithContext()(z)\n",
    "z = Dense(10, activation=\"relu\")(z)\n",
    "z = layers.Dropout(0.5)(z)\n",
    "z = Dense(1, activation=\"sigmoid\")(z)\n",
    "\n",
    "\n",
    "model = Model([sentence, position], z, name='sample_model')\n",
    "model.summary()\n",
    "model.compile(loss='binary_crossentropy',\n",
    "\t\toptimizer=\"adam\",\n",
    "\t\tmetrics=['accuracy'])\n",
    "model.fit_generator(generator=utils_iterator.generate_data('../NLP_Preprocessing/data/clean_data/ontotext_train_labeled.txt', 512, input_size=75, with_positions=True), \n",
    "                    steps_per_epoch=71560//(512), \n",
    "                    validation_data=utils_iterator.generate_data('../NLP_Preprocessing/data/clean_data/ontotext_test_labeled.txt', 512, input_size=75, with_positions=True), \n",
    "                    validation_steps=17892//(512), workers=8, epochs=70, callbacks=callbacks_list)\n",
    "\n",
    "utils_statistics.calculate_recall(model, 0.5)"
   ]
  },
  {
   "cell_type": "code",
   "execution_count": null,
   "metadata": {},
   "outputs": [],
   "source": []
  }
 ],
 "metadata": {
  "kernelspec": {
   "display_name": "Python 3",
   "language": "python",
   "name": "python3"
  },
  "language_info": {
   "codemirror_mode": {
    "name": "ipython",
    "version": 3
   },
   "file_extension": ".py",
   "mimetype": "text/x-python",
   "name": "python",
   "nbconvert_exporter": "python",
   "pygments_lexer": "ipython3",
   "version": "3.6.4"
  }
 },
 "nbformat": 4,
 "nbformat_minor": 2
}
